{
 "cells": [
  {
   "cell_type": "markdown",
   "id": "353cbade",
   "metadata": {},
   "source": [
    "# IS 362 - Project 4\n",
    "\n",
    "## Objective\n",
    "The objective of this project is to compare two features from the mushroom dataset — odor and cap color — to determine which is a better predictor of whether a mushroom is edible or poisonous using logistic regression."
   ]
  },
  {
   "cell_type": "markdown",
   "id": "61522495",
   "metadata": {},
   "source": [
    "## Load Data\n",
    "Data that was constructed in a previous assignment was loaded."
   ]
  },
  {
   "cell_type": "code",
   "execution_count": 10,
   "id": "30bb7184",
   "metadata": {},
   "outputs": [
    {
     "data": {
      "text/html": [
       "<div>\n",
       "<style scoped>\n",
       "    .dataframe tbody tr th:only-of-type {\n",
       "        vertical-align: middle;\n",
       "    }\n",
       "\n",
       "    .dataframe tbody tr th {\n",
       "        vertical-align: top;\n",
       "    }\n",
       "\n",
       "    .dataframe thead th {\n",
       "        text-align: right;\n",
       "    }\n",
       "</style>\n",
       "<table border=\"1\" class=\"dataframe\">\n",
       "  <thead>\n",
       "    <tr style=\"text-align: right;\">\n",
       "      <th></th>\n",
       "      <th>class</th>\n",
       "      <th>odor</th>\n",
       "      <th>cap_shape</th>\n",
       "      <th>cap_color</th>\n",
       "      <th>habitat</th>\n",
       "    </tr>\n",
       "  </thead>\n",
       "  <tbody>\n",
       "    <tr>\n",
       "      <th>0</th>\n",
       "      <td>1</td>\n",
       "      <td>p</td>\n",
       "      <td>x</td>\n",
       "      <td>n</td>\n",
       "      <td>u</td>\n",
       "    </tr>\n",
       "    <tr>\n",
       "      <th>1</th>\n",
       "      <td>0</td>\n",
       "      <td>a</td>\n",
       "      <td>x</td>\n",
       "      <td>y</td>\n",
       "      <td>g</td>\n",
       "    </tr>\n",
       "    <tr>\n",
       "      <th>2</th>\n",
       "      <td>0</td>\n",
       "      <td>l</td>\n",
       "      <td>b</td>\n",
       "      <td>w</td>\n",
       "      <td>m</td>\n",
       "    </tr>\n",
       "    <tr>\n",
       "      <th>3</th>\n",
       "      <td>1</td>\n",
       "      <td>p</td>\n",
       "      <td>x</td>\n",
       "      <td>w</td>\n",
       "      <td>u</td>\n",
       "    </tr>\n",
       "    <tr>\n",
       "      <th>4</th>\n",
       "      <td>0</td>\n",
       "      <td>n</td>\n",
       "      <td>x</td>\n",
       "      <td>g</td>\n",
       "      <td>g</td>\n",
       "    </tr>\n",
       "    <tr>\n",
       "      <th>...</th>\n",
       "      <td>...</td>\n",
       "      <td>...</td>\n",
       "      <td>...</td>\n",
       "      <td>...</td>\n",
       "      <td>...</td>\n",
       "    </tr>\n",
       "    <tr>\n",
       "      <th>8119</th>\n",
       "      <td>0</td>\n",
       "      <td>n</td>\n",
       "      <td>k</td>\n",
       "      <td>n</td>\n",
       "      <td>l</td>\n",
       "    </tr>\n",
       "    <tr>\n",
       "      <th>8120</th>\n",
       "      <td>0</td>\n",
       "      <td>n</td>\n",
       "      <td>x</td>\n",
       "      <td>n</td>\n",
       "      <td>l</td>\n",
       "    </tr>\n",
       "    <tr>\n",
       "      <th>8121</th>\n",
       "      <td>0</td>\n",
       "      <td>n</td>\n",
       "      <td>f</td>\n",
       "      <td>n</td>\n",
       "      <td>l</td>\n",
       "    </tr>\n",
       "    <tr>\n",
       "      <th>8122</th>\n",
       "      <td>1</td>\n",
       "      <td>y</td>\n",
       "      <td>k</td>\n",
       "      <td>n</td>\n",
       "      <td>l</td>\n",
       "    </tr>\n",
       "    <tr>\n",
       "      <th>8123</th>\n",
       "      <td>0</td>\n",
       "      <td>n</td>\n",
       "      <td>x</td>\n",
       "      <td>n</td>\n",
       "      <td>l</td>\n",
       "    </tr>\n",
       "  </tbody>\n",
       "</table>\n",
       "<p>8124 rows × 5 columns</p>\n",
       "</div>"
      ],
      "text/plain": [
       "      class odor cap_shape cap_color habitat\n",
       "0         1    p         x         n       u\n",
       "1         0    a         x         y       g\n",
       "2         0    l         b         w       m\n",
       "3         1    p         x         w       u\n",
       "4         0    n         x         g       g\n",
       "...     ...  ...       ...       ...     ...\n",
       "8119      0    n         k         n       l\n",
       "8120      0    n         x         n       l\n",
       "8121      0    n         f         n       l\n",
       "8122      1    y         k         n       l\n",
       "8123      0    n         x         n       l\n",
       "\n",
       "[8124 rows x 5 columns]"
      ]
     },
     "execution_count": 10,
     "metadata": {},
     "output_type": "execute_result"
    }
   ],
   "source": [
    "# import libraries\n",
    "import pandas as pd\n",
    "import numpy as np\n",
    "from sklearn.model_selection import train_test_split\n",
    "from sklearn.linear_model import LogisticRegression\n",
    "from sklearn import metrics\n",
    "\n",
    "\n",
    "# load the data\n",
    "file_path = '/home/lb24370531/IS 362/mushrooms_subset.csv' \n",
    "\n",
    "# create the DataFrame \n",
    "mushrooms_subset = pd.read_csv(file_path)\n",
    "\n",
    "# print DataFrame\n",
    "mushrooms_subset"
   ]
  },
  {
   "cell_type": "markdown",
   "id": "50d392a1",
   "metadata": {},
   "source": [
    "## Prepare Features and Response\n",
    "The 'odor' and 'cap_color' columns were used as features and the'class' column as the response. The categorical variables were converted to numeric variables using the pandas *get_dummies()* method.  "
   ]
  },
  {
   "cell_type": "code",
   "execution_count": 11,
   "id": "b77a79da",
   "metadata": {},
   "outputs": [],
   "source": [
    "# convert categorical varaibales to numeric variables\n",
    "x_o = pd.get_dummies(mushrooms_subset[['odor']], drop_first=True)\n",
    "x_c = pd.get_dummies(mushrooms_subset[['cap_color']], drop_first=True)\n",
    "y = mushrooms_subset['class']"
   ]
  },
  {
   "cell_type": "markdown",
   "id": "4dd6b867",
   "metadata": {},
   "source": [
    "## Odor Model \n",
    "The logistic regression model was trained using only the odor feature. The dataset was split into training and testing sets. 60% was used for training and 40% was used for testing."
   ]
  },
  {
   "cell_type": "code",
   "execution_count": 12,
   "id": "7afb2db2",
   "metadata": {},
   "outputs": [
    {
     "name": "stdout",
     "output_type": "stream",
     "text": [
      "Odor Model Accuracy: 0.9870769230769231\n"
     ]
    }
   ],
   "source": [
    "# split x and y into training and testing sets for odor\n",
    "# 60% for training and 40% for testing\n",
    "x_o_train, x_o_test, y_o_train, y_o_test = train_test_split(x_o, y, test_size=0.4)\n",
    "\n",
    "# train the model\n",
    "logrego = LogisticRegression(random_state=50, max_iter=1000)\n",
    "logrego.fit(x_o_train, y_o_train)\n",
    "\n",
    "# predict and evaluate\n",
    "y_o_pred = logrego.predict(x_o_test)\n",
    "\n",
    "print('Odor Model Accuracy:', metrics.accuracy_score(y_o_test, y_o_pred))"
   ]
  },
  {
   "cell_type": "markdown",
   "id": "14a0c843",
   "metadata": {},
   "source": [
    "## Cap Color Model\n",
    "Now the logistic regression model was trained using only the cap color feature. The dataset was again split into training and testing sets. 60% was used for training and 40% was used for testing."
   ]
  },
  {
   "cell_type": "code",
   "execution_count": 13,
   "id": "bae7fda4",
   "metadata": {},
   "outputs": [
    {
     "name": "stdout",
     "output_type": "stream",
     "text": [
      "Cap Color Model Accuracy: 0.5916923076923077\n"
     ]
    }
   ],
   "source": [
    "# split x and y into training and testing sets for odor\n",
    "# 60% for training and 40% for testing\n",
    "x_c_train, x_c_test, y_c_train, y_c_test = train_test_split(x_c, y, test_size=0.4)\n",
    "\n",
    "# train the model\n",
    "logregc = LogisticRegression(random_state=50, max_iter=1000)\n",
    "logregc.fit(x_c_train, y_c_train)\n",
    "\n",
    "# predict and evaluate\n",
    "y_c_pred = logregc.predict(x_c_test)\n",
    "\n",
    "print('Cap Color Model Accuracy:', metrics.accuracy_score(y_c_test, y_c_pred))"
   ]
  },
  {
   "cell_type": "markdown",
   "id": "978e0aca",
   "metadata": {},
   "source": [
    "## Conclusion\n",
    "Based on the analysis conducted it can be concluded that odor is a stronger predictor of edibility than cap color. Although odor alone performed well, models would benefit from using multiple features for better generalization. Recommendations for further analysis would include using mutiple features to train the model and visualizing the data using plots and graphs. "
   ]
  }
 ],
 "metadata": {
  "kernelspec": {
   "display_name": "Python 3",
   "language": "python",
   "name": "python3"
  },
  "language_info": {
   "codemirror_mode": {
    "name": "ipython",
    "version": 3
   },
   "file_extension": ".py",
   "mimetype": "text/x-python",
   "name": "python",
   "nbconvert_exporter": "python",
   "pygments_lexer": "ipython3",
   "version": "3.8.10"
  }
 },
 "nbformat": 4,
 "nbformat_minor": 5
}
